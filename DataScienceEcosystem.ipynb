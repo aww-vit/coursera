{
 "cells": [
  {
   "cell_type": "markdown",
   "id": "877a2e17-2906-44f7-a050-1219ab73cccd",
   "metadata": {},
   "source": [
    "# Data Science Tools and Ecosystem"
   ]
  },
  {
   "cell_type": "markdown",
   "id": "cf47abf9-01ae-4963-9e68-2b94740c0563",
   "metadata": {},
   "source": [
    "In this notebook, Data Science Tools and Ecosystem are summarized."
   ]
  },
  {
   "cell_type": "markdown",
   "id": "93b1bb67-a999-4001-bac2-de1ef60b292f",
   "metadata": {},
   "source": [
    "*Objectives:*\n",
    "\n",
    "- List popular languages for Data Science\n",
    "- Learn to create a GitHub Repository\n",
    "- Learn how to create branches in GitHub\n",
    "\n",
    "## Author\n",
    "Arno Wilhelm-Weidner"
   ]
  },
  {
   "cell_type": "markdown",
   "id": "a1383be3-ce62-4f7a-a321-ee947c47dc95",
   "metadata": {},
   "source": [
    "Some of the popular languages that Data Scientists use are:\n",
    "1. R\n",
    "2. Python\n",
    "3. C++"
   ]
  },
  {
   "cell_type": "markdown",
   "id": "ce1b75f8-9f31-4241-a5e0-d5a6eac0d19c",
   "metadata": {},
   "source": [
    "Some of the commonly used libraries used by Data Scientists include:\n",
    "1. Pandas\n",
    "2. Numpy\n",
    "3. Matplotlib"
   ]
  },
  {
   "cell_type": "markdown",
   "id": "5b9397da-e2e3-4fa1-af49-422576d6ae57",
   "metadata": {
    "tags": []
   },
   "source": [
    "| Data Science Tools |\n",
    "| ---- |\n",
    "| RStudio |\n",
    "| Spyder |\n",
    "| Jupyter lab|"
   ]
  },
  {
   "cell_type": "markdown",
   "id": "656cd8da-b898-4bb3-9772-862eaec8d56e",
   "metadata": {},
   "source": [
    "### Below are a few examples of evaluating arithmetic expressions in Python"
   ]
  },
  {
   "cell_type": "code",
   "execution_count": 2,
   "id": "8d114472-69e9-4603-ac22-82cbe6c406c4",
   "metadata": {
    "tags": []
   },
   "outputs": [
    {
     "data": {
      "text/plain": [
       "17"
      ]
     },
     "execution_count": 2,
     "metadata": {},
     "output_type": "execute_result"
    }
   ],
   "source": [
    "# This a simple arithmetic expression to mutiply then add integers\n",
    "\n",
    "(3*4)+5"
   ]
  },
  {
   "cell_type": "code",
   "execution_count": 3,
   "id": "189f20a7-b327-40c5-a9a7-be099b24e8f9",
   "metadata": {
    "tags": []
   },
   "outputs": [
    {
     "data": {
      "text/plain": [
       "3.3333333333333335"
      ]
     },
     "execution_count": 3,
     "metadata": {},
     "output_type": "execute_result"
    }
   ],
   "source": [
    "# This will convert 200 minutes to hours by diving by 60\n",
    "\n",
    "200 / 60"
   ]
  },
  {
   "cell_type": "code",
   "execution_count": null,
   "id": "449c76a2-c5c6-460b-bd44-8b47e6b49e61",
   "metadata": {},
   "outputs": [],
   "source": []
  }
 ],
 "metadata": {
  "kernelspec": {
   "display_name": "Python",
   "language": "python",
   "name": "conda-env-python-py"
  },
  "language_info": {
   "codemirror_mode": {
    "name": "ipython",
    "version": 3
   },
   "file_extension": ".py",
   "mimetype": "text/x-python",
   "name": "python",
   "nbconvert_exporter": "python",
   "pygments_lexer": "ipython3",
   "version": "3.7.12"
  }
 },
 "nbformat": 4,
 "nbformat_minor": 5
}
